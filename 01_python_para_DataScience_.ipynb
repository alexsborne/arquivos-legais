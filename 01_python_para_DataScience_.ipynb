{
  "nbformat": 4,
  "nbformat_minor": 0,
  "metadata": {
    "colab": {
      "provenance": [],
      "collapsed_sections": [],
      "authorship_tag": "ABX9TyNa1I7RxRvFUBNfW6XJ1g+Z",
      "include_colab_link": true
    },
    "kernelspec": {
      "name": "python3",
      "display_name": "Python 3"
    },
    "language_info": {
      "name": "python"
    }
  },
  "cells": [
    {
      "cell_type": "markdown",
      "metadata": {
        "id": "view-in-github",
        "colab_type": "text"
      },
      "source": [
        "<a href=\"https://colab.research.google.com/github/alexsborne/arquivos-legais/blob/main/01_python_para_DataScience_.ipynb\" target=\"_parent\"><img src=\"https://colab.research.google.com/assets/colab-badge.svg\" alt=\"Open In Colab\"/></a>"
      ]
    },
    {
      "cell_type": "markdown",
      "source": [
        "O que é ciência de dados?\n",
        "* é um guarda-chuva que é muitas coisas\n",
        "empresa que vende sorvete, analisando as vendas do dia e do mês, poderemos verificar quando a temperatura for mais alta temos mais vendas\n",
        "\n",
        "* há correlação entre números\n",
        "* roupas do verâo são mais vendidas no verão;\n",
        "* análise exploratória é uma das partes dos dados é olhar os dados e verificar o que eles nos trazem;\n",
        "* o teste da hipótese verifica se o calar faz vender mais sorvete\n",
        "* a análise dos dados nos diz que quem estuda com mais frequência tem melhores resultados qd comparado com aqueles que estudam com menor frequência;\n",
        "* a correlação do rítmo, resultado e frequência é confirmado ou refutado com a análise de dados;\n",
        "* correlação não é causalidade mas é um bom indício;\n",
        "* exemplo: qd há lançamentos de filmes há um melhor desempenho da bolsa de valores;\n",
        "* muitas áreas podem usar a análise de dados pra entender problemas de diversas áreas (engenharia, física, oceanografia, geografia);\n",
        "* se está ligado a dados está ligado a ciência de dados;\n",
        "* python é o novo excel;\n",
        "* python, R, são alternativas ao excel;\n",
        "* dentro do mundo do python usamos muito o pandas;\n",
        "* jupiter muito usado pra rodar python;\n",
        "* pandas podemos ver que o google aprende qual conteúdo é mais consumido;\n"
      ],
      "metadata": {
        "id": "UsgIrhV8kaaQ"
      }
    },
    {
      "cell_type": "code",
      "source": [],
      "metadata": {
        "id": "Iwj1i0uYm6__"
      },
      "execution_count": null,
      "outputs": []
    },
    {
      "cell_type": "markdown",
      "source": [
        "#Utilizaremos\n",
        "python<br>\n",
        "colab google"
      ],
      "metadata": {
        "id": "LnglnCzQnNnN"
      }
    },
    {
      "cell_type": "code",
      "source": [
        "#pra verificar a versão do python\n",
        "!python -V"
      ],
      "metadata": {
        "colab": {
          "base_uri": "https://localhost:8080/"
        },
        "id": "M_4NNyFdnWSF",
        "outputId": "5e644cd7-12a1-46c3-d0a7-4239ca8b54d0"
      },
      "execution_count": null,
      "outputs": [
        {
          "output_type": "stream",
          "name": "stdout",
          "text": [
            "Python 3.7.15\n"
          ]
        }
      ]
    },
    {
      "cell_type": "code",
      "source": [],
      "metadata": {
        "id": "gX2ai-Y_ndYl"
      },
      "execution_count": null,
      "outputs": []
    },
    {
      "cell_type": "markdown",
      "source": [
        "#o que é python?\n",
        "* é uma linguagem interpretada;\n",
        "* é uma linguagem do projeto open source;\n",
        "* é uma linguagem de programaçaõ de alto nível que dá suporte a vários paradigmas (oo, procedural, tdd...);\n"
      ],
      "metadata": {
        "id": "akpk_VtnnpQ2"
      }
    },
    {
      "cell_type": "markdown",
      "source": [
        "#Pandas - como funciona? pra quê serve?\n",
        "* leitura de dados;\n",
        "* importação de dados externos;\n",
        "\n",
        "###########\n",
        "* pandas é um dos mais importantes na análise de dados <br>\n",
        "* agiliza o tratamento, análise e limpeza de dados;<br>\n",
        "https://www.alura.com.br/curso-online-introducao-python-pandas\n",
        "* biblioteca de análise de dados\n",
        "* biblioteca de visualização de dados;\n",
        "* desenvolver papel de um cientista de dados;\n",
        "* usar o pandas pra analisar os dados;\n",
        "* jupiter pra desenvolver relatórios das análises;\n",
        "\n",
        "\n",
        "https://cursos.alura.com.br/course/introducao-python-pandas\n",
        "https://cursos.alura.com.br/course/introducao-python-pandas/task/40978"
      ],
      "metadata": {
        "id": "R3H8xl2WoBDf"
      }
    },
    {
      "cell_type": "code",
      "source": [],
      "metadata": {
        "id": "xmhwPfBk2G-s"
      },
      "execution_count": null,
      "outputs": []
    }
  ]
}